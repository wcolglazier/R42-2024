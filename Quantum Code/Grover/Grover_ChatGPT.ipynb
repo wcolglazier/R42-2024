{
 "cells": [
  {
   "cell_type": "code",
   "execution_count": 6,
   "id": "276e7509-5c9c-40cd-8b4f-b182d9b4b4f1",
   "metadata": {},
   "outputs": [
    {
     "data": {
      "text/plain": [
       "<qiskit.circuit.instructionset.InstructionSet at 0x24036325670>"
      ]
     },
     "execution_count": 6,
     "metadata": {},
     "output_type": "execute_result"
    },
    {
     "data": {
      "text/plain": [
       "<qiskit.circuit.instructionset.InstructionSet at 0x24003032a00>"
      ]
     },
     "execution_count": 6,
     "metadata": {},
     "output_type": "execute_result"
    },
    {
     "data": {
      "text/plain": [
       "\"\\n# Execute the circuit\\nbackend = Aer.get_backend('qasm_simulator')\\ntranspiled_grover_circuit = transpile(grover_circuit, backend)\\nqobj = assemble(transpiled_grover_circuit)\\nresults = execute(grover_circuit, backend, shots=1024).result()\\n\""
      ]
     },
     "execution_count": 6,
     "metadata": {},
     "output_type": "execute_result"
    },
    {
     "name": "stdout",
     "output_type": "stream",
     "text": [
      "{'001': 126, '100': 144, '011': 104, '101': 120, '111': 136, '010': 131, '000': 154, '110': 109}\n"
     ]
    },
    {
     "data": {
      "image/png": "[encoded data removed]",
      "text/plain": [
       "<Figure size 640x480 with 1 Axes>"
      ]
     },
     "execution_count": 6,
     "metadata": {},
     "output_type": "execute_result"
    }
   ],
   "source": [
    "from qiskit import QuantumCircuit, transpile\n",
    "from qiskit_aer import Aer\n",
    "import numpy as np\n",
    "from qiskit.visualization import plot_histogram\n",
    "from qiskit.circuit.library import GroverOperator\n",
    "import matplotlib.pyplot as plt\n",
    "from IPython.core.interactiveshell import InteractiveShell\n",
    "from qiskit.visualization import plot_bloch_multivector\n",
    "\n",
    "InteractiveShell.ast_node_interactivity = \"all\"\n",
    "from numpy import pi\n",
    "\n",
    "# Define the oracle for |101>\n",
    "def oracle_101(circuit):\n",
    "    circuit.x(0)\n",
    "    circuit.cx(0, 1)\n",
    "    circuit.ccx(1, 2, 0)\n",
    "    circuit.cx(0, 1)\n",
    "    circuit.x(0)\n",
    "\n",
    "# Define the Grover diffusion operator\n",
    "def diffuser(nqubits):\n",
    "    qc = QuantumCircuit(nqubits)\n",
    "    # Apply Hadamard gates\n",
    "    for qubit in range(nqubits):\n",
    "        qc.h(qubit)\n",
    "    # Apply X gates\n",
    "    for qubit in range(nqubits):\n",
    "        qc.x(qubit)\n",
    "    # Do multi-controlled-Z gate\n",
    "    qc.h(nqubits-1)\n",
    "    qc.mcx(list(range(nqubits-1)), nqubits-1)  # multi-controlled-toffoli\n",
    "    qc.h(nqubits-1)\n",
    "    # Apply X gates\n",
    "    for qubit in range(nqubits):\n",
    "        qc.x(qubit)\n",
    "    # Apply Hadamard gates\n",
    "    for qubit in range(nqubits):\n",
    "        qc.h(qubit)\n",
    "    # Convert diffuser to a gate\n",
    "    U_s = qc.to_gate()\n",
    "    U_s.name = \"Diffuser\"\n",
    "    return U_s\n",
    "\n",
    "# Number of qubits\n",
    "nqubits = 3\n",
    "grover_circuit = QuantumCircuit(nqubits)\n",
    "\n",
    "# Initialize with Hadamard gates\n",
    "grover_circuit.h(range(nqubits))\n",
    "\n",
    "# Apply the oracle\n",
    "oracle_101(grover_circuit)\n",
    "\n",
    "# Apply the diffuser\n",
    "grover_circuit.append(diffuser(nqubits), range(nqubits))\n",
    "\n",
    "# Measure the results\n",
    "grover_circuit.measure_all()\n",
    "\"\"\"\n",
    "# Execute the circuit\n",
    "backend = Aer.get_backend('qasm_simulator')\n",
    "transpiled_grover_circuit = transpile(grover_circuit, backend)\n",
    "qobj = assemble(transpiled_grover_circuit)\n",
    "results = execute(grover_circuit, backend, shots=1024).result()\n",
    "\"\"\"\n",
    "backend = Aer.get_backend('qasm_simulator')\n",
    "#transpiled_circuit = transpile(grover_circuit, backend)\n",
    "\n",
    "nc = transpile(grover_circuit,backend)\n",
    "job = backend.run(nc)\n",
    "results = job.result()\n",
    "counts = results.get_counts()\n",
    "\n",
    "\n",
    "# Plot the results\n",
    "print(counts)\n",
    "plot_histogram(counts)"
   ]
  },
  {
   "cell_type": "code",
   "execution_count": null,
   "id": "28e1d5df-3e7d-48ee-9b61-fe8c4d8db59c",
   "metadata": {},
   "outputs": [],
   "source": []
  }
 ],
 "metadata": {
  "kernelspec": {
   "display_name": "Python 3 (ipykernel)",
   "language": "python",
   "name": "python3"
  },
  "language_info": {
   "codemirror_mode": {
    "name": "ipython",
    "version": 3
   },
   "file_extension": ".py",
   "mimetype": "text/x-python",
   "name": "python",
   "nbconvert_exporter": "python",
   "pygments_lexer": "ipython3",
   "version": "3.9.0"
  }
 },
 "nbformat": 4,
 "nbformat_minor": 5
}
